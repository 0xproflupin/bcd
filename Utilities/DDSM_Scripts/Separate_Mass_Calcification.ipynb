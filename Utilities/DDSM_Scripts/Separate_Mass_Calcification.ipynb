{
 "cells": [
  {
   "cell_type": "code",
   "execution_count": 6,
   "metadata": {},
   "outputs": [],
   "source": [
    "import numpy\n",
    "import math\n",
    "import pandas\n",
    "import os\n",
    "import subprocess"
   ]
  },
  {
   "cell_type": "code",
   "execution_count": 7,
   "metadata": {},
   "outputs": [],
   "source": [
    "os.chdir('/home/anvit/Desktop/VOCdevkit/VOC2007/Annotations/')\n",
    "dir = os.getcwd()\n",
    "\n",
    "data = pandas.read_csv('/home/anvit/py-faster-rcnn_3/input_data.csv')\n",
    "data = numpy.array(data)\n",
    "\n",
    "filenames = data[:,1]\n",
    "typeoflesion = data[:,2]\n",
    "\n",
    "for i in range(0,len(data)):\n",
    "    name = filenames[i]\n",
    "    xmlname = name[:-8]+\".xml\"\n",
    "    \n",
    "    if(typeoflesion[i]==\"MASS\"):\n",
    "        string1 = '/home/anvit/Desktop/VOCdevkit/VOC2007/Annotations/'+xmlname\n",
    "        string = 'cp '+string1+\" /home/anvit/DDSM/massxml/\" \n",
    "        subprocess.call(string, shell=True)\n",
    "        \n",
    "    elif(typeoflesion[i]==\"CALCIFICATION\"):\n",
    "        string1 = '/home/anvit/Desktop/VOCdevkit/VOC2007/Annotations/'+xmlname\n",
    "        string = 'cp '+string1+\" /home/anvit/DDSM/calxml/\" \n",
    "        subprocess.call(string, shell=True)"
   ]
  }
 ],
 "metadata": {
  "kernelspec": {
   "display_name": "Python 2",
   "language": "python",
   "name": "python2"
  },
  "language_info": {
   "codemirror_mode": {
    "name": "ipython",
    "version": 2
   },
   "file_extension": ".py",
   "mimetype": "text/x-python",
   "name": "python",
   "nbconvert_exporter": "python",
   "pygments_lexer": "ipython2",
   "version": "2.7.12"
  }
 },
 "nbformat": 4,
 "nbformat_minor": 2
}
