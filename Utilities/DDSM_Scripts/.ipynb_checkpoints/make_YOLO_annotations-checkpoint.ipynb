{
 "cells": [
  {
   "cell_type": "code",
   "execution_count": 3,
   "metadata": {},
   "outputs": [],
   "source": [
    "import pandas as pd\n",
    "import os\n",
    "import numpy as np\n",
    "from PIL import Image\n",
    "import xml.etree.ElementTree as ET\n",
    "from PIL import Image"
   ]
  },
  {
   "cell_type": "code",
   "execution_count": 4,
   "metadata": {},
   "outputs": [
    {
     "ename": "TypeError",
     "evalue": "'NoneType' object is not subscriptable",
     "output_type": "error",
     "traceback": [
      "\u001b[0;31m---------------------------------------------------------------------------\u001b[0m",
      "\u001b[0;31mTypeError\u001b[0m                                 Traceback (most recent call last)",
      "\u001b[0;32m<ipython-input-4-0d0f08290d41>\u001b[0m in \u001b[0;36m<module>\u001b[0;34m\u001b[0m\n\u001b[1;32m     14\u001b[0m             \u001b[0mclassval\u001b[0m \u001b[0;34m=\u001b[0m \u001b[0;36m1\u001b[0m\u001b[0;34m\u001b[0m\u001b[0m\n\u001b[1;32m     15\u001b[0m         \u001b[0mbbox\u001b[0m \u001b[0;34m=\u001b[0m \u001b[0mobj\u001b[0m\u001b[0;34m.\u001b[0m\u001b[0mfind\u001b[0m\u001b[0;34m(\u001b[0m\u001b[0;34m'bbox'\u001b[0m\u001b[0;34m)\u001b[0m\u001b[0;34m\u001b[0m\u001b[0m\n\u001b[0;32m---> 16\u001b[0;31m         \u001b[0mxmin\u001b[0m \u001b[0;34m=\u001b[0m \u001b[0mbbox\u001b[0m\u001b[0;34m[\u001b[0m\u001b[0;36m0\u001b[0m\u001b[0;34m]\u001b[0m\u001b[0;34m\u001b[0m\u001b[0m\n\u001b[0m\u001b[1;32m     17\u001b[0m         \u001b[0mymin\u001b[0m \u001b[0;34m=\u001b[0m \u001b[0mbbox\u001b[0m\u001b[0;34m[\u001b[0m\u001b[0;36m1\u001b[0m\u001b[0;34m]\u001b[0m\u001b[0;34m\u001b[0m\u001b[0m\n\u001b[1;32m     18\u001b[0m         \u001b[0mxmax\u001b[0m \u001b[0;34m=\u001b[0m \u001b[0mbbox\u001b[0m\u001b[0;34m[\u001b[0m\u001b[0;36m2\u001b[0m\u001b[0;34m]\u001b[0m\u001b[0;34m\u001b[0m\u001b[0m\n",
      "\u001b[0;31mTypeError\u001b[0m: 'NoneType' object is not subscriptable"
     ]
    }
   ],
   "source": [
    "for file in os.listdir('/home/anvit/Desktop/Data/DDSM/All_resized_jpegs_removed_black_withnormal/'):\n",
    "    txtfil = open('/home/anvit/Desktop/YOLO/darknet/data/obj/'+file[:-3] + \"txt\", 'w')\n",
    "    xml = '/home/anvit/Desktop/Data/DDSM/XML_Ben_Mal/xml_all/' + file[:-3] + \"xml\"\n",
    "    tree = ET.parse(xml)\n",
    "    root = tree.getroot()\n",
    "    img = Image.open('/home/anvit/Desktop/Data/DDSM/All_resized_jpegs_removed_black_withnormal/' + file)\n",
    "    width, height = img.size\n",
    "    \n",
    "    for obj in root.findall('object'):\n",
    "        typename=obj.find('name').text\n",
    "        if(typename=='BENIGN_WITHOUT_CALLBACK' or typename=='BENIGN'):\n",
    "            classval = 0\n",
    "        elif(typename=='MALIGNANT'):\n",
    "            classval = 1\n",
    "        bbox = obj.find('bbox')\n",
    "        xmin = bbox[0]\n",
    "        ymin = bbox[1]\n",
    "        xmax = bbox[2]\n",
    "        ymax = bbox[3]\n",
    "        xcentre = (xmin + xmax)/2\n",
    "        ycentre = (ymin + ymax)/2\n",
    "        w = xmax - xmin\n",
    "        h = ymax - ymin\n",
    "        xcentre_norm = xcentre/width\n",
    "        ycentre_norm = ycentre/height\n",
    "        w_norm = w/width\n",
    "        h_norm = h/height\n",
    "        towrite = str(classval) + \" \" + str(xcentre_norm) + \" \" + str(ycentre_norm) + \" \" + str(w_norm) + \" \" + str(h_norm) + \"\\n\"\n",
    "        txtfil.write(towrite)\n",
    "    \n",
    "    txtfil.close()"
   ]
  },
  {
   "cell_type": "code",
   "execution_count": null,
   "metadata": {},
   "outputs": [],
   "source": []
  }
 ],
 "metadata": {
  "kernelspec": {
   "display_name": "Python 3",
   "language": "python",
   "name": "python3"
  },
  "language_info": {
   "codemirror_mode": {
    "name": "ipython",
    "version": 3
   },
   "file_extension": ".py",
   "mimetype": "text/x-python",
   "name": "python",
   "nbconvert_exporter": "python",
   "pygments_lexer": "ipython3",
   "version": "3.5.2"
  }
 },
 "nbformat": 4,
 "nbformat_minor": 2
}
