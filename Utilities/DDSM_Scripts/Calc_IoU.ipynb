{
 "cells": [
  {
   "cell_type": "code",
   "execution_count": 61,
   "metadata": {},
   "outputs": [],
   "source": [
    "import numpy\n",
    "import math\n",
    "import pandas\n",
    "import xml.etree.ElementTree as ET\n",
    "import os"
   ]
  },
  {
   "cell_type": "code",
   "execution_count": 67,
   "metadata": {},
   "outputs": [],
   "source": [
    "def find_iou(predictedbox, actualbox):\n",
    "    \n",
    "    #predictedbox and actualbox are an array of 4 containing [xmin, ymin, xmax, ymax]\n",
    "    \n",
    "    xmin = max(predictedbox[0], actualbox[0])\n",
    "    ymin = max(predictedbox[1], actualbox[1])\n",
    "    xmax = min(predictedbox[2], actualbox[2])\n",
    "    ymax = min(predictedbox[3], actualbox[3])\n",
    "\n",
    "    \n",
    "    intersection = max(0, xmax - xmin) * max(0, ymax - ymin)\n",
    " \n",
    "    predicted = (predictedbox[2] - predictedbox[0]) * (predictedbox[3] - predictedbox[1])\n",
    "    actual = (actualbox[2] - actualbox[0]) * (actualbox[3] - actualbox[1])\n",
    "    \n",
    "    iou = float(intersection) / float(actual + predicted - intersection)\n",
    "    \n",
    "    return iou"
   ]
  },
  {
   "cell_type": "code",
   "execution_count": 68,
   "metadata": {},
   "outputs": [
    {
     "name": "stdout",
     "output_type": "stream",
     "text": [
      "('length data', 39791)\n",
      "C_0088_1.LEFT_MLO.xml\n",
      "1\n",
      "hi\n"
     ]
    },
    {
     "ename": "TypeError",
     "evalue": "'int' object is not callable",
     "output_type": "error",
     "traceback": [
      "\u001b[0;31m---------------------------------------------------------------------------\u001b[0m",
      "\u001b[0;31mTypeError\u001b[0m                                 Traceback (most recent call last)",
      "\u001b[0;32m<ipython-input-68-468203d2e183>\u001b[0m in \u001b[0;36m<module>\u001b[0;34m()\u001b[0m\n\u001b[1;32m     31\u001b[0m                 \u001b[0mflag\u001b[0m \u001b[0;34m=\u001b[0m \u001b[0mTrue\u001b[0m\u001b[0;34m\u001b[0m\u001b[0m\n\u001b[1;32m     32\u001b[0m                 \u001b[0mpredictedbox\u001b[0m \u001b[0;34m=\u001b[0m \u001b[0;34m[\u001b[0m\u001b[0mxmin\u001b[0m\u001b[0;34m[\u001b[0m\u001b[0mj\u001b[0m\u001b[0;34m]\u001b[0m\u001b[0;34m,\u001b[0m\u001b[0mymin\u001b[0m\u001b[0;34m[\u001b[0m\u001b[0mj\u001b[0m\u001b[0;34m]\u001b[0m\u001b[0;34m,\u001b[0m\u001b[0mxmax\u001b[0m\u001b[0;34m[\u001b[0m\u001b[0mj\u001b[0m\u001b[0;34m]\u001b[0m\u001b[0;34m,\u001b[0m\u001b[0mymax\u001b[0m\u001b[0;34m[\u001b[0m\u001b[0mj\u001b[0m\u001b[0;34m]\u001b[0m\u001b[0;34m]\u001b[0m\u001b[0;34m\u001b[0m\u001b[0m\n\u001b[0;32m---> 33\u001b[0;31m                 \u001b[0mret\u001b[0m \u001b[0;34m=\u001b[0m \u001b[0mfind_iou\u001b[0m\u001b[0;34m(\u001b[0m\u001b[0mpredictedbox\u001b[0m\u001b[0;34m,\u001b[0m \u001b[0mactualbox\u001b[0m\u001b[0;34m)\u001b[0m\u001b[0;34m\u001b[0m\u001b[0m\n\u001b[0m\u001b[1;32m     34\u001b[0m                 \u001b[0;32mprint\u001b[0m\u001b[0;34m(\u001b[0m\u001b[0;34m\"ret\"\u001b[0m\u001b[0;34m,\u001b[0m\u001b[0mret\u001b[0m\u001b[0;34m)\u001b[0m\u001b[0;34m\u001b[0m\u001b[0m\n\u001b[1;32m     35\u001b[0m                 \u001b[0;32mif\u001b[0m\u001b[0;34m(\u001b[0m\u001b[0mret\u001b[0m\u001b[0;34m>\u001b[0m\u001b[0mmaxval\u001b[0m\u001b[0;34m)\u001b[0m\u001b[0;34m:\u001b[0m\u001b[0;34m\u001b[0m\u001b[0m\n",
      "\u001b[0;32m<ipython-input-67-63cb823f6269>\u001b[0m in \u001b[0;36mfind_iou\u001b[0;34m(predictedbox, actualbox)\u001b[0m\n\u001b[1;32m      3\u001b[0m     \u001b[0;31m#predictedbox and actualbox are an array of 4 containing [xmin, ymin, xmax, ymax]\u001b[0m\u001b[0;34m\u001b[0m\u001b[0;34m\u001b[0m\u001b[0m\n\u001b[1;32m      4\u001b[0m \u001b[0;34m\u001b[0m\u001b[0m\n\u001b[0;32m----> 5\u001b[0;31m     \u001b[0mxmin\u001b[0m \u001b[0;34m=\u001b[0m \u001b[0mmax\u001b[0m\u001b[0;34m(\u001b[0m\u001b[0mpredictedbox\u001b[0m\u001b[0;34m[\u001b[0m\u001b[0;36m0\u001b[0m\u001b[0;34m]\u001b[0m\u001b[0;34m,\u001b[0m \u001b[0mactualbox\u001b[0m\u001b[0;34m[\u001b[0m\u001b[0;36m0\u001b[0m\u001b[0;34m]\u001b[0m\u001b[0;34m)\u001b[0m\u001b[0;34m\u001b[0m\u001b[0m\n\u001b[0m\u001b[1;32m      6\u001b[0m     \u001b[0mymin\u001b[0m \u001b[0;34m=\u001b[0m \u001b[0mmax\u001b[0m\u001b[0;34m(\u001b[0m\u001b[0mpredictedbox\u001b[0m\u001b[0;34m[\u001b[0m\u001b[0;36m1\u001b[0m\u001b[0;34m]\u001b[0m\u001b[0;34m,\u001b[0m \u001b[0mactualbox\u001b[0m\u001b[0;34m[\u001b[0m\u001b[0;36m1\u001b[0m\u001b[0;34m]\u001b[0m\u001b[0;34m)\u001b[0m\u001b[0;34m\u001b[0m\u001b[0m\n\u001b[1;32m      7\u001b[0m     \u001b[0mxmax\u001b[0m \u001b[0;34m=\u001b[0m \u001b[0mmin\u001b[0m\u001b[0;34m(\u001b[0m\u001b[0mpredictedbox\u001b[0m\u001b[0;34m[\u001b[0m\u001b[0;36m2\u001b[0m\u001b[0;34m]\u001b[0m\u001b[0;34m,\u001b[0m \u001b[0mactualbox\u001b[0m\u001b[0;34m[\u001b[0m\u001b[0;36m2\u001b[0m\u001b[0;34m]\u001b[0m\u001b[0;34m)\u001b[0m\u001b[0;34m\u001b[0m\u001b[0m\n",
      "\u001b[0;31mTypeError\u001b[0m: 'int' object is not callable"
     ]
    }
   ],
   "source": [
    "os.chdir('/home/anvit/Desktop/VOCdevkit/VOC2007/Annotations/')\n",
    "dir = os.getcwd()\n",
    "\n",
    "data = pandas.read_csv('/home/anvit/py-faster-rcnn_3/detections_originalmodel.csv')\n",
    "data = numpy.array(data)\n",
    "\n",
    "filenames = data[:,1]\n",
    "xmin = data[:,2]\n",
    "xmax = data[:,3]\n",
    "ymin = data[:,4]\n",
    "ymax = data[:,5]\n",
    "print(\"length data\",len(data))\n",
    "\n",
    "totaliou = 0\n",
    "globalcnt = 0\n",
    "for file in os.listdir(dir):\n",
    "    print(file)\n",
    "    tree = ET.parse('/home/anvit/Desktop/VOCdevkit/VOC2007/Annotations/'+file)\n",
    "    root = tree.getroot()\n",
    "    cnt = len(root) - 6\n",
    "    globalcnt += cnt\n",
    "    print(cnt) #Number of Mass/Calc (ground truth) in each image\n",
    "    for i in range(0, cnt):\n",
    "        actualbox = [int(root[6+i][4][0].text),int(root[6+i][4][1].text),int(root[6+i][4][2].text),int(root[6+i][4][3].text)]\n",
    "        maxval = 0\n",
    "        flag = False\n",
    "        for j in range(0, len(data)):\n",
    "        \n",
    "            if(filenames[j] == file[:-4]+\".jpg\"):\n",
    "                print(\"hi\")\n",
    "                flag = True\n",
    "                predictedbox = [xmin[j],ymin[j],xmax[j],ymax[j]]\n",
    "                ret = find_iou(predictedbox, actualbox)\n",
    "                print(\"ret\",ret)\n",
    "                if(ret>maxval):\n",
    "                    maxval = ret\n",
    "            if(flag == True and filenames[j] != file[:-4]):\n",
    "                break\n",
    "        print(\"max\",maxval)\n",
    "        totaliou += maxval\n",
    "print(\"totaliou: \",totaliou)\n",
    "print(\"globalcnt: \",globalcnt)\n",
    "print(totaliou/globalcnt)\n",
    "\n",
    "# data = pandas.read_csv('/home/anvit/py-faster-rcnn_3/detections_originalmodel.csv')\n",
    "# data = numpy.array(data)\n",
    "# # print(data.shape)\n",
    "# # print(len(data))\n",
    "# # print(len(data[0]))\n",
    "# filenames = data[:,1]\n",
    "# xmin = data[:,2]\n",
    "# xmax = data[:,3]\n",
    "# ymin = data[:,4]\n",
    "# ymax = data[:,5]\n",
    "\n",
    "\n",
    "# totaliou = 0\n",
    "# count = 0\n",
    "# for i in range (0,len(data)):\n",
    "#     predictedbox = [xmin[i],ymin[i],xmax[i],ymax[i]]\n",
    "#     name = filenames[i]\n",
    "#     tree = ET.parse('/home/anvit/Desktop/VOCdevkit/VOC2007/Annotations/'+name[:-4]+'.xml')\n",
    "#     root = tree.getroot()\n",
    "#     actualbox = [int(root[6][4][0].text),int(root[6][4][1].text),int(root[6][4][2].text),int(root[6][4][3].text)]\n",
    "#     totaliou += find_iou(predictedbox, actualbox)\n",
    "\n",
    "# print(totaliou/len(data))"
   ]
  },
  {
   "cell_type": "code",
   "execution_count": null,
   "metadata": {},
   "outputs": [],
   "source": []
  },
  {
   "cell_type": "code",
   "execution_count": null,
   "metadata": {},
   "outputs": [],
   "source": []
  }
 ],
 "metadata": {
  "kernelspec": {
   "display_name": "Python 2",
   "language": "python",
   "name": "python2"
  },
  "language_info": {
   "codemirror_mode": {
    "name": "ipython",
    "version": 2
   },
   "file_extension": ".py",
   "mimetype": "text/x-python",
   "name": "python",
   "nbconvert_exporter": "python",
   "pygments_lexer": "ipython2",
   "version": "2.7.12"
  }
 },
 "nbformat": 4,
 "nbformat_minor": 2
}
