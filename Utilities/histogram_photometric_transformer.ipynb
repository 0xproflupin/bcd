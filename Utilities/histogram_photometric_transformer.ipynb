{
 "cells": [
  {
   "cell_type": "code",
   "execution_count": 8,
   "metadata": {},
   "outputs": [],
   "source": [
    "from matplotlib import pyplot as plt\n",
    "import cv2\n",
    "import os\n",
    "import numpy as np\n",
    "%matplotlib inline"
   ]
  },
  {
   "cell_type": "code",
   "execution_count": 42,
   "metadata": {},
   "outputs": [],
   "source": [
    "largefil=[]\n",
    "for file in os.listdir('/home/anvit/Desktop/Data/AIIMS_Data/Test_imgs/'):\n",
    "    temp=cv2.imread('/home/anvit/Desktop/Data/AIIMS_Data/Test_imgs/'+file,0)\n",
    "    temp=temp[temp>5]\n",
    "    temp=temp[temp<245]\n",
    "    largefil.append(temp)"
   ]
  },
  {
   "cell_type": "code",
   "execution_count": 43,
   "metadata": {},
   "outputs": [],
   "source": [
    "largefil=np.array(largefil)"
   ]
  },
  {
   "cell_type": "code",
   "execution_count": 46,
   "metadata": {},
   "outputs": [
    {
     "data": {
      "image/png": "[encoded data removed]",
      "text/plain": [
       "<Figure size 432x288 with 1 Axes>"
      ]
     },
     "metadata": {
      "needs_background": "light"
     },
     "output_type": "display_data"
    }
   ],
   "source": [
    "histr = cv2.calcHist(largefil,[0],None,[256],[0,256]) \n",
    "  \n",
    "# show the plotting graph of an image \n",
    "plt.plot(histr) \n",
    "plt.show() "
   ]
  },
  {
   "cell_type": "code",
   "execution_count": 30,
   "metadata": {},
   "outputs": [
    {
     "data": {
      "text/plain": [
       "array([array([255, 255, 255, ...,   1,   1,   1], dtype=uint8),\n",
       "       array([  1,   1,   1, ..., 146, 146,   1], dtype=uint8),\n",
       "       array([  1,   1,  82, ..., 146, 146,   1], dtype=uint8),\n",
       "       array([  1,   1,  82, ..., 146, 146,   1], dtype=uint8),\n",
       "       array([ 7, 15, 17, ...,  9, 15, 15], dtype=uint8),\n",
       "       array([  1,   1,  82, ..., 146, 146,   1], dtype=uint8),\n",
       "       array([  1,   1,   1, ..., 146, 146,   1], dtype=uint8),\n",
       "       array([  1,   1,  82, ..., 146, 146,   1], dtype=uint8),\n",
       "       array([255, 255, 255, ..., 235, 232,   1], dtype=uint8),\n",
       "       array([  1,   1,   1, ..., 146, 146,   1], dtype=uint8),\n",
       "       array([  1,   1,   1, ..., 222, 221,   1], dtype=uint8),\n",
       "       array([1, 1, 1, ..., 1, 1, 1], dtype=uint8),\n",
       "       array([1, 1, 1, ..., 2, 1, 1], dtype=uint8),\n",
       "       array([255, 255, 255, ...,   1,   1,   1], dtype=uint8),\n",
       "       array([  1,   1,   1, ..., 146, 146,   1], dtype=uint8),\n",
       "       array([1, 1, 1, ..., 6, 5, 4], dtype=uint8),\n",
       "       array([  1,   1,   1, ..., 146, 146,   1], dtype=uint8),\n",
       "       array([255, 255, 255, ...,   1,   1,   1], dtype=uint8),\n",
       "       array([255, 255, 255, ...,   4,   1,   1], dtype=uint8),\n",
       "       array([  1,   1,  82, ..., 146, 146,   1], dtype=uint8),\n",
       "       array([  1,   1,   1, ..., 146, 146,   1], dtype=uint8),\n",
       "       array([1, 1, 1, ..., 1, 5, 1], dtype=uint8),\n",
       "       array([  1, 255, 255, ...,   1,   1,   1], dtype=uint8),\n",
       "       array([  1,   1,   1, ..., 255, 255,   1], dtype=uint8),\n",
       "       array([1, 1, 1, ..., 1, 1, 1], dtype=uint8),\n",
       "       array([1, 1, 1, ..., 1, 1, 1], dtype=uint8),\n",
       "       array([  1,   1,   1, ..., 146, 146,   1], dtype=uint8),\n",
       "       array([1, 1, 1, ..., 1, 1, 1], dtype=uint8),\n",
       "       array([1, 1, 1, ..., 2, 1, 1], dtype=uint8),\n",
       "       array([  1,   1, 255, ...,   1,   1,   1], dtype=uint8),\n",
       "       array([1, 1, 1, ..., 2, 1, 1], dtype=uint8),\n",
       "       array([1, 1, 1, ..., 1, 1, 1], dtype=uint8),\n",
       "       array([255, 255, 255, ...,   2,   1,   1], dtype=uint8),\n",
       "       array([1, 1, 1, ..., 3, 2, 1], dtype=uint8),\n",
       "       array([1, 1, 1, ..., 1, 1, 1], dtype=uint8),\n",
       "       array([ 1,  1,  1, ..., 18, 13, 13], dtype=uint8),\n",
       "       array([255, 255, 255, ..., 253, 253, 253], dtype=uint8),\n",
       "       array([120, 108,  95, ...,   2,   3,   1], dtype=uint8),\n",
       "       array([  2,   4,   5, ..., 230, 237, 240], dtype=uint8),\n",
       "       array([252, 255, 249, ..., 253, 196,  35], dtype=uint8),\n",
       "       array([255, 255, 255, ..., 255, 255, 255], dtype=uint8),\n",
       "       array([  1,   1,   1, ..., 146, 146,   1], dtype=uint8),\n",
       "       array([  1,   1,   1, ..., 146, 146,   1], dtype=uint8),\n",
       "       array([  1,   1,   1, ..., 169,   1,   1], dtype=uint8),\n",
       "       array([1, 1, 1, ..., 4, 4, 4], dtype=uint8),\n",
       "       array([255, 255, 255, ...,   1,   1,   1], dtype=uint8),\n",
       "       array([1, 1, 1, ..., 1, 1, 1], dtype=uint8),\n",
       "       array([1, 1, 1, ..., 2, 1, 1], dtype=uint8),\n",
       "       array([1, 1, 1, ..., 1, 1, 1], dtype=uint8),\n",
       "       array([255, 255, 255, ...,   1,   1,   1], dtype=uint8),\n",
       "       array([  1, 255, 255, ..., 251, 251,   1], dtype=uint8),\n",
       "       array([  1,   1,  82, ..., 146, 146,   1], dtype=uint8),\n",
       "       array([1, 1, 1, ..., 1, 1, 1], dtype=uint8),\n",
       "       array([1, 1, 1, ..., 1, 1, 1], dtype=uint8),\n",
       "       array([1, 1, 1, ..., 1, 1, 1], dtype=uint8),\n",
       "       array([  1,   1,  82, ..., 146, 146,   1], dtype=uint8),\n",
       "       array([  1,   1,  82, ..., 146, 146,   1], dtype=uint8),\n",
       "       array([1, 1, 1, ..., 1, 1, 1], dtype=uint8),\n",
       "       array([1, 1, 1, ..., 1, 1, 1], dtype=uint8),\n",
       "       array([ 1,  1,  1, ..., 21, 11,  1], dtype=uint8),\n",
       "       array([1, 1, 6, ..., 1, 1, 1], dtype=uint8),\n",
       "       array([8, 6, 4, ..., 1, 1, 1], dtype=uint8),\n",
       "       array([180, 175, 155, ...,   4,   6,   6], dtype=uint8),\n",
       "       array([  1,   1,  82, ..., 146, 146,   1], dtype=uint8),\n",
       "       array([  1,   1,   1, ..., 146, 146,   1], dtype=uint8),\n",
       "       array([1, 1, 1, ..., 1, 1, 1], dtype=uint8),\n",
       "       array([1, 1, 1, ..., 1, 1, 1], dtype=uint8),\n",
       "       array([  1,   1,  82, ..., 146, 146,   1], dtype=uint8),\n",
       "       array([1, 1, 1, ..., 1, 1, 1], dtype=uint8),\n",
       "       array([ 1,  1,  1, ..., 12, 11,  9], dtype=uint8),\n",
       "       array([255, 255, 255, ...,   1,   1,   1], dtype=uint8),\n",
       "       array([1, 1, 1, ..., 1, 1, 1], dtype=uint8),\n",
       "       array([1, 1, 1, ..., 1, 1, 1], dtype=uint8),\n",
       "       array([  1,   1,  82, ..., 146, 146,   1], dtype=uint8),\n",
       "       array([  1,   1,   1, ..., 146, 146,   1], dtype=uint8),\n",
       "       array([  1, 255, 255, ...,   1,   1,   1], dtype=uint8),\n",
       "       array([1, 1, 1, ..., 2, 1, 1], dtype=uint8),\n",
       "       array([3, 3, 6, ..., 1, 1, 1], dtype=uint8),\n",
       "       array([  1, 255, 255, ...,   1,   1,   1], dtype=uint8),\n",
       "       array([1, 1, 1, ..., 1, 1, 1], dtype=uint8),\n",
       "       array([  1,   1,  82, ..., 146, 146,   1], dtype=uint8),\n",
       "       array([1, 1, 1, ..., 2, 2, 1], dtype=uint8),\n",
       "       array([ 1,  1,  1, ..., 12,  9, 11], dtype=uint8),\n",
       "       array([  1,   1, 248, ...,  10,   8,   5], dtype=uint8),\n",
       "       array([  1,   1,   1, ..., 146, 146,   1], dtype=uint8),\n",
       "       array([  1, 255, 255, ...,   1,   1,   1], dtype=uint8),\n",
       "       array([  1,   1,   1, ..., 146, 146,   1], dtype=uint8),\n",
       "       array([  1,   1,   1, ..., 146, 146,   1], dtype=uint8),\n",
       "       array([  1,   1,   1, ..., 146, 146,   1], dtype=uint8),\n",
       "       array([6, 3, 2, ..., 1, 1, 1], dtype=uint8),\n",
       "       array([1, 1, 1, ..., 1, 1, 1], dtype=uint8),\n",
       "       array([255, 255, 255, ..., 248, 251, 252], dtype=uint8),\n",
       "       array([1, 1, 1, ..., 1, 1, 1], dtype=uint8),\n",
       "       array([  1,   1,   2, ..., 146, 146,   1], dtype=uint8),\n",
       "       array([  1, 255, 255, ...,   1,   1,   1], dtype=uint8),\n",
       "       array([1, 1, 1, ..., 1, 1, 1], dtype=uint8),\n",
       "       array([255, 255, 255, ...,   1,   1,   1], dtype=uint8),\n",
       "       array([1, 1, 1, ..., 1, 1, 1], dtype=uint8),\n",
       "       array([  1,   1,  82, ..., 146, 146,   1], dtype=uint8),\n",
       "       array([255, 255, 255, ...,   1,   1,   1], dtype=uint8),\n",
       "       array([  1,   1,   1, ..., 246,   1,   1], dtype=uint8),\n",
       "       array([  1,   1,   1, ..., 146, 146,   1], dtype=uint8),\n",
       "       array([255, 255, 255, ...,   1,   1,   1], dtype=uint8),\n",
       "       array([  1,   1,  82, ..., 146, 146,   1], dtype=uint8),\n",
       "       array([1, 1, 1, ..., 5, 2, 1], dtype=uint8),\n",
       "       array([1, 1, 1, ..., 1, 1, 1], dtype=uint8),\n",
       "       array([255, 255, 255, ...,   1,   1,   1], dtype=uint8),\n",
       "       array([  1,   1,  82, ..., 146, 146,   1], dtype=uint8),\n",
       "       array([  1,   1, 255, ...,   2,   2,   1], dtype=uint8),\n",
       "       array([  1,   1,   1, ..., 146, 146,   1], dtype=uint8),\n",
       "       array([  1, 255, 255, ...,   1,   1,   1], dtype=uint8),\n",
       "       array([5, 9, 7, ..., 2, 1, 1], dtype=uint8),\n",
       "       array([  1,   1,  82, ..., 146, 146,   1], dtype=uint8),\n",
       "       array([  1, 255, 255, ...,   1,   1,   1], dtype=uint8),\n",
       "       array([1, 1, 1, ..., 1, 1, 1], dtype=uint8),\n",
       "       array([1, 1, 1, ..., 1, 1, 1], dtype=uint8),\n",
       "       array([255, 255, 255, ..., 254, 254, 254], dtype=uint8),\n",
       "       array([  1,   1,  82, ..., 146, 146,   1], dtype=uint8),\n",
       "       array([1, 1, 1, ..., 1, 1, 1], dtype=uint8),\n",
       "       array([1, 1, 1, ..., 1, 1, 1], dtype=uint8),\n",
       "       array([  1,   1,   1, ..., 146, 146,   1], dtype=uint8),\n",
       "       array([  1,   1,   1, ..., 146, 146,   1], dtype=uint8),\n",
       "       array([  1,   1,   1, ..., 146, 146,   1], dtype=uint8),\n",
       "       array([  1,   1,   1, ..., 146, 146,   1], dtype=uint8),\n",
       "       array([ 1,  1,  1, ..., 13,  1,  1], dtype=uint8),\n",
       "       array([224, 226, 229, ...,   3,   4,   4], dtype=uint8),\n",
       "       array([  1,   1,  82, ..., 146, 146,   1], dtype=uint8),\n",
       "       array([  1,   1,   1, ..., 146, 146,   1], dtype=uint8),\n",
       "       array([  1,   1,   1, ..., 146, 146,   1], dtype=uint8),\n",
       "       array([  1,   1,  82, ..., 146, 146,   1], dtype=uint8),\n",
       "       array([1, 1, 1, ..., 1, 1, 1], dtype=uint8),\n",
       "       array([244, 244, 244, ...,   4,   6,   5], dtype=uint8)],\n",
       "      dtype=object)"
      ]
     },
     "execution_count": 30,
     "metadata": {},
     "output_type": "execute_result"
    }
   ],
   "source": [
    "largefil"
   ]
  },
  {
   "cell_type": "code",
   "execution_count": null,
   "metadata": {},
   "outputs": [],
   "source": []
  }
 ],
 "metadata": {
  "kernelspec": {
   "display_name": "Python 3",
   "language": "python",
   "name": "python3"
  },
  "language_info": {
   "codemirror_mode": {
    "name": "ipython",
    "version": 3
   },
   "file_extension": ".py",
   "mimetype": "text/x-python",
   "name": "python",
   "nbconvert_exporter": "python",
   "pygments_lexer": "ipython3",
   "version": "3.5.2"
  }
 },
 "nbformat": 4,
 "nbformat_minor": 2
}
