{
 "cells": [
  {
   "cell_type": "code",
   "execution_count": 27,
   "metadata": {},
   "outputs": [],
   "source": [
    "import pickle\n",
    "import os\n",
    "import numpy as np\n",
    "import matplotlib.pyplot as plt\n",
    "import cv2"
   ]
  },
  {
   "cell_type": "code",
   "execution_count": 28,
   "metadata": {},
   "outputs": [
    {
     "name": "stderr",
     "output_type": "stream",
     "text": [
      "/home/anvit/.local/lib/python3.5/site-packages/ipykernel_launcher.py:1: ResourceWarning: unclosed file <_io.BufferedReader name='FRCNN_preds.pk'>\n",
      "  \"\"\"Entry point for launching an IPython kernel.\n",
      "/home/anvit/.local/lib/python3.5/site-packages/ipykernel_launcher.py:2: ResourceWarning: unclosed file <_io.BufferedReader name='YOLO_preds.pk'>\n",
      "  \n",
      "/home/anvit/.local/lib/python3.5/site-packages/ipykernel_launcher.py:3: ResourceWarning: unclosed file <_io.BufferedReader name='GT.pk'>\n",
      "  This is separate from the ipykernel package so we can avoid doing imports until\n"
     ]
    }
   ],
   "source": [
    "FRCNN = pickle.load(open(\"FRCNN_preds.pk\", 'rb'))\n",
    "YOLO = pickle.load(open(\"YOLO_preds.pk\", 'rb'))\n",
    "GT = pickle.load(open(\"GT.pk\", 'rb'))"
   ]
  },
  {
   "cell_type": "code",
   "execution_count": 29,
   "metadata": {},
   "outputs": [
    {
     "name": "stdout",
     "output_type": "stream",
     "text": [
      "88.0\n",
      "58.0\n"
     ]
    }
   ],
   "source": [
    "#Compare results\n",
    "imgdir = os.listdir(\"/home/anvit/Desktop/Data/INbreast/equalized_PNG_394_resized_ambiremoved/\")\n",
    "imgdir.sort()\n",
    "\n",
    "\n",
    "FRCNN01=np.array(FRCNN)\n",
    "FRCNN=np.array(FRCNN)\n",
    "FRCNN01[FRCNN >= 0.4] = 1\n",
    "FRCNN01[FRCNN < 0.4] = 0\n",
    "diffFRCNN = np.abs(FRCNN01 - np.array(GT))\n",
    "print(np.sum(np.abs(FRCNN01 - np.array(GT))))\n",
    "filenames = os.listdir()\n",
    "wrongFRCNN = []\n",
    "for i in range(len(diffFRCNN)):\n",
    "    if diffFRCNN[i] == 1 or diffFRCNN[i] == 1.0:\n",
    "        wrongFRCNN.append(imgdir[i])\n",
    "        \n",
    "YOLO01=np.array(YOLO)\n",
    "YOLO=np.array(YOLO)\n",
    "YOLO01[YOLO >= 0.03] = 1\n",
    "YOLO01[YOLO < 0.03] = 0\n",
    "diffYOLO = np.abs(YOLO01 - np.array(GT))\n",
    "print(np.sum(np.abs(YOLO01 - np.array(GT))))\n",
    "filenames = os.listdir()\n",
    "wrongYOLO = []\n",
    "for i in range(len(diffYOLO)):\n",
    "    if diffYOLO[i] == 1 or diffYOLO[i] == 1.0:\n",
    "        wrongYOLO.append(imgdir[i])"
   ]
  },
  {
   "cell_type": "code",
   "execution_count": 30,
   "metadata": {},
   "outputs": [],
   "source": [
    "arrdiff = diffYOLO - diffFRCNN\n",
    "wrongYOLOcorrectFRCNN = np.argwhere(arrdiff == 1)\n",
    "wrongFRCNNcorrectYOLO = np.argwhere(arrdiff == -1)\n",
    "arrsum = diffYOLO + diffFRCNN\n",
    "wrongBOTH = np.argwhere(arrsum == 2)\n",
    "correctBOTH = np.argwhere(arrsum == 0)"
   ]
  },
  {
   "cell_type": "code",
   "execution_count": 36,
   "metadata": {},
   "outputs": [
    {
     "name": "stdout",
     "output_type": "stream",
     "text": [
      "(268, 1) (20, 1) (38, 1) (68, 1)\n"
     ]
    }
   ],
   "source": [
    "print(correctBOTH.shape, wrongBOTH.shape, wrongYOLOcorrectFRCNN.shape, wrongFRCNNcorrectYOLO.shape)"
   ]
  },
  {
   "cell_type": "code",
   "execution_count": 41,
   "metadata": {},
   "outputs": [],
   "source": [
    "#Save images which are wrong in both\n",
    "for i in wrongBOTH:\n",
    "    im=cv2.imread(\"/home/anvit/Desktop/Data/INbreast/equalized_PNG_394_resized_ambiremoved/\" + imgdir[i[0]])\n",
    "    cv2.imwrite('/home/anvit/Desktop/Analysis/wrongBOTH/' + imgdir[i[0]], im)\n",
    "    \n",
    "#Save images wrong in YOLO but correct in FRCNN\n",
    "for i in wrongYOLOcorrectFRCNN:\n",
    "    im=cv2.imread(\"/home/anvit/Desktop/Data/INbreast/equalized_PNG_394_resized_ambiremoved/\" + imgdir[i[0]])\n",
    "    cv2.imwrite('/home/anvit/Desktop/Analysis/wrongYOLOcorrectFRCNN/' + imgdir[i[0]], im)\n",
    "\n",
    "\n",
    "#Save images wrong in FRCNN but correct in YOLO\n",
    "for i in wrongFRCNNcorrectYOLO:\n",
    "    im=cv2.imread(\"/home/anvit/Desktop/Data/INbreast/equalized_PNG_394_resized_ambiremoved/\" + imgdir[i[0]])\n",
    "    cv2.imwrite('/home/anvit/Desktop/Analysis/wrongFRCNNcorrectYOLO/' + imgdir[i[0]], im)"
   ]
  },
  {
   "cell_type": "code",
   "execution_count": null,
   "metadata": {},
   "outputs": [],
   "source": []
  }
 ],
 "metadata": {
  "kernelspec": {
   "display_name": "Python 3",
   "language": "python",
   "name": "python3"
  },
  "language_info": {
   "codemirror_mode": {
    "name": "ipython",
    "version": 3
   },
   "file_extension": ".py",
   "mimetype": "text/x-python",
   "name": "python",
   "nbconvert_exporter": "python",
   "pygments_lexer": "ipython3",
   "version": "3.5.2"
  }
 },
 "nbformat": 4,
 "nbformat_minor": 2
}
